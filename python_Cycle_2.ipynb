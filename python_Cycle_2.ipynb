{
  "nbformat": 4,
  "nbformat_minor": 0,
  "metadata": {
    "colab": {
      "name": "python Cycle 2.ipynb",
      "provenance": [],
      "collapsed_sections": [],
      "authorship_tag": "ABX9TyMHUcjLd3lYCwO7vnPrEWQ8",
      "include_colab_link": true
    },
    "kernelspec": {
      "name": "python3",
      "display_name": "Python 3"
    }
  },
  "cells": [
    {
      "cell_type": "markdown",
      "metadata": {
        "id": "view-in-github",
        "colab_type": "text"
      },
      "source": [
        "<a href=\"https://colab.research.google.com/github/anunadhrajesh/Python/blob/main/python_Cycle_2.ipynb\" target=\"_parent\"><img src=\"https://colab.research.google.com/assets/colab-badge.svg\" alt=\"Open In Colab\"/></a>"
      ]
    },
    {
      "cell_type": "code",
      "metadata": {
        "colab": {
          "base_uri": "https://localhost:8080/"
        },
        "id": "UcxlJWX5AFah",
        "outputId": "3b7cec1b-dc4b-4f2f-da4b-de4160ff32de"
      },
      "source": [
        "num1 = float(input(\"Enter first number: \"))\r\n",
        "num2 = float(input(\"Enter second number: \"))\r\n",
        "num3 = float(input(\"Enter third number: \"))\r\n",
        "if (num1 >= num2) and (num1 >= num3):\r\n",
        "   largest = num1\r\n",
        "elif (num2 >= num1) and (num2 >= num3):\r\n",
        "   largest = num2\r\n",
        "else:\r\n",
        "   largest = num3\r\n",
        "print(\"The largest number is\", largest)"
      ],
      "execution_count": 1,
      "outputs": [
        {
          "output_type": "stream",
          "text": [
            "Enter first number: 2\n",
            "Enter second number: 4\n",
            "Enter third number: 6\n",
            "The largest number is 6.0\n"
          ],
          "name": "stdout"
        }
      ]
    },
    {
      "cell_type": "code",
      "metadata": {
        "colab": {
          "base_uri": "https://localhost:8080/"
        },
        "id": "UB-bLmHXATnW",
        "outputId": "71208418-37f6-4602-ed6c-9b83233d6903"
      },
      "source": [
        "year = int(input(\"Enter a year: \"))\r\n",
        "if (year % 4) == 0:\r\n",
        "   if (year % 100) == 0:\r\n",
        "       if (year % 400) == 0:\r\n",
        "           print(\"{0} is a leap year\".format(year))\r\n",
        "       else:\r\n",
        "           print(\"{0} is not a leap year\".format(year))\r\n",
        "   else:\r\n",
        "       print(\"{0} is a leap year\".format(year))\r\n",
        "else:\r\n",
        "   print(\"{0} is not a leap year\".format(year))"
      ],
      "execution_count": 2,
      "outputs": [
        {
          "output_type": "stream",
          "text": [
            "Enter a year: 2002\n",
            "2002 is not a leap year\n"
          ],
          "name": "stdout"
        }
      ]
    },
    {
      "cell_type": "code",
      "metadata": {
        "colab": {
          "base_uri": "https://localhost:8080/"
        },
        "id": "wqYkopG1AZoP",
        "outputId": "c3a7acf0-68b0-4f62-e2d4-c967719c338e"
      },
      "source": [
        "num = float(input(\"Enter a number: \"))\r\n",
        "if num >= 0:\r\n",
        "   if num == 0:\r\n",
        "       print(\"Zero\")\r\n",
        "   else:\r\n",
        "       print(\"Positive number\")\r\n",
        "else:\r\n",
        "   print(\"Negative number\")"
      ],
      "execution_count": 3,
      "outputs": [
        {
          "output_type": "stream",
          "text": [
            "Enter a number: 4\n",
            "Positive number\n"
          ],
          "name": "stdout"
        }
      ]
    },
    {
      "cell_type": "code",
      "metadata": {
        "colab": {
          "base_uri": "https://localhost:8080/"
        },
        "id": "pPXAZyaGAgDu",
        "outputId": "a992f221-f3ab-4afb-ec2f-277634462cc3"
      },
      "source": [
        "num = int(input(\"Enter a number: \"))  \r\n",
        "if num < 0:  \r\n",
        "   print(\"Enter a positive number\")  \r\n",
        "else:  \r\n",
        "   sum = 0  \r\n",
        "   while(num > 0):  \r\n",
        "       sum += num  \r\n",
        "       num -= 1  \r\n",
        "   print(\"The sum is\",sum)  \r\n"
      ],
      "execution_count": 6,
      "outputs": [
        {
          "output_type": "stream",
          "text": [
            "Enter a number: 2\n",
            "The sum is 3\n"
          ],
          "name": "stdout"
        }
      ]
    },
    {
      "cell_type": "code",
      "metadata": {
        "colab": {
          "base_uri": "https://localhost:8080/"
        },
        "id": "2iIIy57dA2Pi",
        "outputId": "7bde8406-f8bc-46ad-a05a-142016cccdf4"
      },
      "source": [
        "num = int(input(\"Enter a number: \"))  \r\n",
        "factorial = 1  \r\n",
        "if num < 0:  \r\n",
        "   print(\"Sorry, factorial does not exist for negative numbers\")  \r\n",
        "elif num == 0:  \r\n",
        "   print(\"The factorial of 0 is 1\")  \r\n",
        "else:  \r\n",
        "   for i in range(1,num + 1):  \r\n",
        "       factorial = factorial*i  \r\n",
        "   print(\"The factorial of\",num,\"is\",factorial)  "
      ],
      "execution_count": 7,
      "outputs": [
        {
          "output_type": "stream",
          "text": [
            "Enter a number: 2\n",
            "The factorial of 2 is 2\n"
          ],
          "name": "stdout"
        }
      ]
    },
    {
      "cell_type": "code",
      "metadata": {
        "colab": {
          "base_uri": "https://localhost:8080/"
        },
        "id": "8ekqDMg7A7sd",
        "outputId": "7d91b0cf-7db7-4ae5-df4c-53f8d27ecb9f"
      },
      "source": [
        "num = int(input(\"Enter the number: \"))\r\n",
        "\r\n",
        "print(\"Multiplication Table of\", num)\r\n",
        "for i in range(1, 11):\r\n",
        "   print(num,\"X\",i,\"=\",num * i)"
      ],
      "execution_count": 8,
      "outputs": [
        {
          "output_type": "stream",
          "text": [
            "Enter the number: 2\n",
            "Multiplication Table of 2\n",
            "2 X 1 = 2\n",
            "2 X 2 = 4\n",
            "2 X 3 = 6\n",
            "2 X 4 = 8\n",
            "2 X 5 = 10\n",
            "2 X 6 = 12\n",
            "2 X 7 = 14\n",
            "2 X 8 = 16\n",
            "2 X 9 = 18\n",
            "2 X 10 = 20\n"
          ],
          "name": "stdout"
        }
      ]
    },
    {
      "cell_type": "code",
      "metadata": {
        "colab": {
          "base_uri": "https://localhost:8080/"
        },
        "id": "XLIR9ZKRA_3T",
        "outputId": "f92f7a15-66d5-4295-a89f-afc25cbb9ad5"
      },
      "source": [
        "nterms = int(input(\"How many terms you want? \"))  \r\n",
        "n1 = 0  \r\n",
        "n2 = 1  \r\n",
        "count = 2  \r\n",
        "if nterms <= 0:  \r\n",
        "   print(\"Plese enter a positive integer\")  \r\n",
        "elif nterms == 1:  \r\n",
        "   print(\"Fibonacci sequence:\")  \r\n",
        "   print(n1)  \r\n",
        "else:  \r\n",
        "   print(\"Fibonacci sequence:\")  \r\n",
        "   print(n1,\",\",n2,end=', ')  \r\n",
        "   while count < nterms:  \r\n",
        "       nth = n1 + n2  \r\n",
        "       print(nth,end=' , ')  \r\n",
        "       # update values  \r\n",
        "       n1 = n2  \r\n",
        "       n2 = nth  \r\n",
        "       count += 1 \r\n",
        "       "
      ],
      "execution_count": 10,
      "outputs": [
        {
          "output_type": "stream",
          "text": [
            "How many terms you want? 4\n",
            "Fibonacci sequence:\n",
            "0 , 1, 1 , 2 , "
          ],
          "name": "stdout"
        }
      ]
    },
    {
      "cell_type": "code",
      "metadata": {
        "colab": {
          "base_uri": "https://localhost:8080/"
        },
        "id": "Ekm0gzG3BNLQ",
        "outputId": "0e624f07-0cc8-4c48-eda3-84edfe593b2d"
      },
      "source": [
        "def lcm(x, y):  \r\n",
        "   if x > y:  \r\n",
        "       greater = x  \r\n",
        "   else:  \r\n",
        "       greater = y  \r\n",
        "   while(True):  \r\n",
        "       if((greater % x == 0) and (greater % y == 0)):  \r\n",
        "           lcm = greater  \r\n",
        "           break  \r\n",
        "       greater += 1  \r\n",
        "   return lcm  \r\n",
        "num1 = int(input(\"Enter first number: \"))  \r\n",
        "num2 = int(input(\"Enter second number: \"))  \r\n",
        "print(\"The L.C.M. of\", num1,\"and\", num2,\"is\", lcm(num1, num2))  \r\n"
      ],
      "execution_count": 12,
      "outputs": [
        {
          "output_type": "stream",
          "text": [
            "Enter first number: 2\n",
            "Enter second number: 4\n",
            "The L.C.M. of 2 and 4 is 4\n"
          ],
          "name": "stdout"
        }
      ]
    },
    {
      "cell_type": "code",
      "metadata": {
        "colab": {
          "base_uri": "https://localhost:8080/"
        },
        "id": "a92YoQsCBUcl",
        "outputId": "cba440d0-2433-4731-e59b-2b9e3a90c604"
      },
      "source": [
        "num = int(input(\"Enter a number \\n\"))\r\n",
        "count = 0\r\n",
        " \r\n",
        "#counting number of digits in 'num'\r\n",
        "while num>0:\r\n",
        "    count +=1\r\n",
        "    num = num//10;\r\n",
        "    \r\n",
        "print(\"Number of Digits: %d\"%count)\r\n"
      ],
      "execution_count": 14,
      "outputs": [
        {
          "output_type": "stream",
          "text": [
            "Enter a number \n",
            "444\n",
            "Number of Digits: 3\n"
          ],
          "name": "stdout"
        }
      ]
    },
    {
      "cell_type": "code",
      "metadata": {
        "colab": {
          "base_uri": "https://localhost:8080/"
        },
        "id": "m9RntaxrBe4O",
        "outputId": "90a7284c-4a3c-4b5f-b878-6bb300e33fe9"
      },
      "source": [
        "n=int(input(\"Enter number: \"))\r\n",
        "rev=0\r\n",
        "while(n>0):\r\n",
        "    dig=n%10\r\n",
        "    rev=rev*10+dig\r\n",
        "    n=n//10\r\n",
        "print(\"Reverse of the number:\",rev)"
      ],
      "execution_count": 18,
      "outputs": [
        {
          "output_type": "stream",
          "text": [
            "Enter number: 24\n",
            "Reverse of the number: 42\n"
          ],
          "name": "stdout"
        }
      ]
    },
    {
      "cell_type": "code",
      "metadata": {
        "colab": {
          "base_uri": "https://localhost:8080/"
        },
        "id": "mojM6zBQBvvw",
        "outputId": "4399c92b-6e3a-46d0-d8b2-d756137d367f"
      },
      "source": [
        "def power(base,exp):\r\n",
        "    if(exp==1):\r\n",
        "        return(base)\r\n",
        "    if(exp!=1):\r\n",
        "        return(base*power(base,exp-1))\r\n",
        "base=int(input(\"Enter base: \"))\r\n",
        "exp=int(input(\"Enter exponential value: \"))\r\n",
        "print(\"Result:\",power(base,exp))"
      ],
      "execution_count": 19,
      "outputs": [
        {
          "output_type": "stream",
          "text": [
            "Enter base: 4\n",
            "Enter exponential value: 2\n",
            "Result: 16\n"
          ],
          "name": "stdout"
        }
      ]
    },
    {
      "cell_type": "code",
      "metadata": {
        "colab": {
          "base_uri": "https://localhost:8080/"
        },
        "id": "7tyuohTvB3W7",
        "outputId": "c54e1423-6ae2-482d-d01f-bb65aa12450d"
      },
      "source": [
        "n=int(input(\"Enter number:\"))\r\n",
        "temp=n\r\n",
        "rev=0\r\n",
        "while(n>0):\r\n",
        "    dig=n%10\r\n",
        "    rev=rev*10+dig\r\n",
        "    n=n//10\r\n",
        "if(temp==rev):\r\n",
        "    print(\"The number is a palindrome!\")\r\n",
        "else:\r\n",
        "    print(\"The number isn't a palindrome!\")\r\n",
        "\r\n"
      ],
      "execution_count": 21,
      "outputs": [
        {
          "output_type": "stream",
          "text": [
            "Enter number:222\n",
            "The number is a palindrome!\n"
          ],
          "name": "stdout"
        }
      ]
    }
  ]
}