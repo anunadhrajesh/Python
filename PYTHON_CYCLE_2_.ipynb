{
  "nbformat": 4,
  "nbformat_minor": 0,
  "metadata": {
    "colab": {
      "name": "PYTHON CYCLE 2*.ipynb",
      "provenance": [],
      "collapsed_sections": [],
      "authorship_tag": "ABX9TyNZMrOqKI19jMyyoPwqE3af",
      "include_colab_link": true
    },
    "kernelspec": {
      "name": "python3",
      "display_name": "Python 3"
    }
  },
  "cells": [
    {
      "cell_type": "markdown",
      "metadata": {
        "id": "view-in-github",
        "colab_type": "text"
      },
      "source": [
        "<a href=\"https://colab.research.google.com/github/anunadhrajesh/Python/blob/main/PYTHON_CYCLE_2_.ipynb\" target=\"_parent\"><img src=\"https://colab.research.google.com/assets/colab-badge.svg\" alt=\"Open In Colab\"/></a>"
      ]
    },
    {
      "cell_type": "code",
      "metadata": {
        "colab": {
          "base_uri": "https://localhost:8080/"
        },
        "id": "a2rScUc_PV8K",
        "outputId": "706f2b81-7437-4767-c648-335b07d5706e"
      },
      "source": [
        "s=int(input(\"enter starting year: \"))\r\n",
        "e=int(input(\"enter ending year: \"))\r\n",
        "print(\"leap years between\",s,\"and\",e)\r\n",
        "while (s<=e):\r\n",
        "    if ((s%400==0) or ((s%4==0) and (s%100!=0))):\r\n",
        "      print(s)\r\n",
        "    s=s+1"
      ],
      "execution_count": 1,
      "outputs": [
        {
          "output_type": "stream",
          "text": [
            "enter starting year: 2003\n",
            "enter ending year: 2013\n",
            "leap years between 2003 and 2013\n",
            "2004\n",
            "2008\n",
            "2012\n"
          ],
          "name": "stdout"
        }
      ]
    },
    {
      "cell_type": "code",
      "metadata": {
        "colab": {
          "base_uri": "https://localhost:8080/"
        },
        "id": "h231eJrcC4zD",
        "outputId": "225d8041-5332-4f9d-c1b8-b01155e331e2"
      },
      "source": [
        "x=[]\r\n",
        "n=int(input(\"enter list items : \"))\r\n",
        "for i in range(1,n+1):\r\n",
        "    a=int(input(\"enter the value of %d item : \"%i))\r\n",
        "    x.append(a)\r\n",
        "y=[num for num in x if num >= 0]\r\n",
        "print(\"initial list of integers is :\",x) \r\n",
        "print(\"modified list of positive numbers is :\",y)"
      ],
      "execution_count": 2,
      "outputs": [
        {
          "output_type": "stream",
          "text": [
            "enter list items : 5\n",
            "enter the value of 1 item : 4\n",
            "enter the value of 2 item : 5\n",
            "enter the value of 3 item : 6\n",
            "enter the value of 4 item : 7\n",
            "enter the value of 5 item : 6\n",
            "initial list of integers is : [4, 5, 6, 7, 6]\n",
            "modified list of positive numbers is : [4, 5, 6, 7, 6]\n"
          ],
          "name": "stdout"
        }
      ]
    },
    {
      "cell_type": "code",
      "metadata": {
        "colab": {
          "base_uri": "https://localhost:8080/"
        },
        "id": "7JB7j8tVEIQ-",
        "outputId": "3f3748ed-7ac4-4e04-d5f6-2efc429830c6"
      },
      "source": [
        "w=input(\"enter any word : \")\r\n",
        "v=[l for l in w if l in 'aeiou' ]\r\n",
        "print(\"list of vowels in\",w,\" :\",v)"
      ],
      "execution_count": 3,
      "outputs": [
        {
          "output_type": "stream",
          "text": [
            "enter any word : var\n",
            "list of vowels in var  : ['a']\n"
          ],
          "name": "stdout"
        }
      ]
    },
    {
      "cell_type": "code",
      "metadata": {
        "colab": {
          "base_uri": "https://localhost:8080/"
        },
        "id": "HA-ZuupREVHp",
        "outputId": "8adf9efd-8736-4ca4-d66e-603ac73fc6cd"
      },
      "source": [
        "w=input(\"enter any word : \")\r\n",
        "for l in range(len(w)) :\r\n",
        "  print(\"ASCII value is\",w[l],\"is\",ord(w[l]))"
      ],
      "execution_count": 4,
      "outputs": [
        {
          "output_type": "stream",
          "text": [
            "enter any word : var\n",
            "ASCII value is v is 118\n",
            "ASCII value is a is 97\n",
            "ASCII value is r is 114\n"
          ],
          "name": "stdout"
        }
      ]
    },
    {
      "cell_type": "code",
      "metadata": {
        "colab": {
          "base_uri": "https://localhost:8080/"
        },
        "id": "ape9h6iGElen",
        "outputId": "b9d79f42-14a6-49ac-a897-4551446df87f"
      },
      "source": [
        "def word_count(str):\r\n",
        "    counts = dict()\r\n",
        "    words = str.split()\r\n",
        "    for word in words:\r\n",
        "        if word in counts:\r\n",
        "            counts[word] += 1\r\n",
        "        else:\r\n",
        "            counts[word] = 1\r\n",
        "    return counts\r\n",
        "str=input(\"enter any text :\")\r\n",
        "print(word_count(str))"
      ],
      "execution_count": 13,
      "outputs": [
        {
          "output_type": "stream",
          "text": [
            "enter any text :var\n",
            "{'var': 1}\n"
          ],
          "name": "stdout"
        }
      ]
    },
    {
      "cell_type": "code",
      "metadata": {
        "colab": {
          "base_uri": "https://localhost:8080/"
        },
        "id": "GM4o4IgkGuG5",
        "outputId": "0123ecf6-2c5f-429c-c760-b5ec9cb759b6"
      },
      "source": [
        "x=[]\r\n",
        "n=int(input(\"enter any integers :\"))\r\n",
        "for i in range(1,n+1):\r\n",
        "  a=int(input())\r\n",
        "  if (a>100):\r\n",
        "    x.append('over')\r\n",
        "  else:\r\n",
        "    x.append(a)\r\n",
        "print(\"modified list :\" ,x)6"
      ],
      "execution_count": 5,
      "outputs": [
        {
          "output_type": "stream",
          "text": [
            "enter any integers :5\n",
            "30\n",
            "50\n",
            "0\n",
            "70\n",
            "90\n",
            "modified list : [30, 50, 0, 70, 90]\n"
          ],
          "name": "stdout"
        }
      ]
    },
    {
      "cell_type": "code",
      "metadata": {
        "colab": {
          "base_uri": "https://localhost:8080/"
        },
        "id": "-D57l_ImGusx",
        "outputId": "c34939dd-b40b-4114-db3a-ac23523e08f6"
      },
      "source": [
        "def change(str):\r\n",
        "      return str[-1:] + str[1:-1] + str[:1]\r\n",
        "str=input(\"enter any string : \")\r\n",
        "print(\"modified string : \",change(str))\r\n"
      ],
      "execution_count": 6,
      "outputs": [
        {
          "output_type": "stream",
          "text": [
            "enter any string : var\n",
            "modified string :  rav\n"
          ],
          "name": "stdout"
        }
      ]
    },
    {
      "cell_type": "code",
      "metadata": {
        "colab": {
          "base_uri": "https://localhost:8080/"
        },
        "id": "fC2doV5iIFn_",
        "outputId": "2add5c62-8694-4b26-c1ee-d9534dbef896"
      },
      "source": [
        "r=int(input(\"enter the radius of the circle :\"))\r\n",
        "print(\"area of the circle is :\",3.14*r*r)"
      ],
      "execution_count": 7,
      "outputs": [
        {
          "output_type": "stream",
          "text": [
            "enter the radius of the circle :6\n",
            "area of the circle is : 113.03999999999999\n"
          ],
          "name": "stdout"
        }
      ]
    },
    {
      "cell_type": "code",
      "metadata": {
        "colab": {
          "base_uri": "https://localhost:8080/"
        },
        "id": "ByAt2Y9xILpX",
        "outputId": "b83a96fe-2879-478b-b20c-d0decbf99ce4"
      },
      "source": [
        "a = float(input(\"enter the first value : \"))\r\n",
        "b = float(input(\"enter the second value : \"))\r\n",
        "c = float(input(\"enter the third value : \"))\r\n",
        "if (a > b and a > c):\r\n",
        "  print(a,\"is bigger than both\",b,\"and\",c)\r\n",
        "elif (b > a and b > c):\r\n",
        "  print(b,\"is bigger than both\",a,\"and\",c)\r\n",
        "elif (c > a and c > b):\r\n",
        "  print(c,\"is bigger than both\",a,\"and\",b)\r\n",
        "else:\r\n",
        "  print(\"either any two values or all the three values are equal\")"
      ],
      "execution_count": 8,
      "outputs": [
        {
          "output_type": "stream",
          "text": [
            "enter the first value : 6\n",
            "enter the second value : 8\n",
            "enter the third value : 10\n",
            "10.0 is bigger than both 6.0 and 8.0\n"
          ],
          "name": "stdout"
        }
      ]
    },
    {
      "cell_type": "code",
      "metadata": {
        "colab": {
          "base_uri": "https://localhost:8080/"
        },
        "id": "5omnPJjIIToO",
        "outputId": "6daae48d-a2e5-4e0b-d28e-779439a12079"
      },
      "source": [
        "f=input(\"enter any filename : \")\r\n",
        "x=f.split(\".\")\r\n",
        "print(\"extension of file is\",x[-1])"
      ],
      "execution_count": 9,
      "outputs": [
        {
          "output_type": "stream",
          "text": [
            "enter any filename : python\n",
            "extension of file is python\n"
          ],
          "name": "stdout"
        }
      ]
    },
    {
      "cell_type": "code",
      "metadata": {
        "colab": {
          "base_uri": "https://localhost:8080/"
        },
        "id": "wUDb9HATIcB0",
        "outputId": "099781bc-39ba-4d14-be73-8fc8826f07d0"
      },
      "source": [
        "k1=input(\"enter first key : \")\r\n",
        "k2=input(\"enter second key : \")\r\n",
        "v1=input(\"enter first value : \")\r\n",
        "v2=input(\"enter second value : \")\r\n",
        "dict1={}\r\n",
        "dict2={}\r\n",
        "dict1[k1]=v1\r\n",
        "dict2[k2]=v2\r\n",
        "def merge_dictionaries(x,y):\r\n",
        "  z = {**x,**y}\r\n",
        "  print(\"merged dictionary is : \")\r\n",
        "  return z\r\n",
        "print(merge_dictionaries(dict1,dict2))"
      ],
      "execution_count": 10,
      "outputs": [
        {
          "output_type": "stream",
          "text": [
            "enter first key : abc\n",
            "enter second key : def\n",
            "enter first value : ghi\n",
            "enter second value : jkl\n",
            "merged dictionary is : \n",
            "{'abc': 'ghi', 'def': 'jkl'}\n"
          ],
          "name": "stdout"
        }
      ]
    },
    {
      "cell_type": "code",
      "metadata": {
        "colab": {
          "base_uri": "https://localhost:8080/"
        },
        "id": "SGQJWl0QIli3",
        "outputId": "cdc26308-cb03-42d2-fed7-6f7bca6a3156"
      },
      "source": [
        "n1=float(input(\"enter the first value : \"))\r\n",
        "n2=float(input(\"enter the second value : \"))\r\n",
        "x=n1\r\n",
        "y=n2\r\n",
        "while (n2 != 0):\r\n",
        "  temp=n2\r\n",
        "  n2=n1%n2\r\n",
        "  n1=temp\r\n",
        "gcd=n1   \r\n",
        "print(\"GCD of\",x,\"and\",y,\"is\",gcd)"
      ],
      "execution_count": 11,
      "outputs": [
        {
          "output_type": "stream",
          "text": [
            "enter the first value : 23\n",
            "enter the second value : 32\n",
            "GCD of 23.0 and 32.0 is 1.0\n"
          ],
          "name": "stdout"
        }
      ]
    },
    {
      "cell_type": "code",
      "metadata": {
        "colab": {
          "base_uri": "https://localhost:8080/"
        },
        "id": "xHV6LBbYIqhy",
        "outputId": "5fb998cb-3df5-4c26-dbc1-8ab10fc2d67a"
      },
      "source": [
        "x=[]\r\n",
        "n=int(input(\"enter list items : \"))\r\n",
        "for i in range(1,n+1):\r\n",
        "    a=int(input(\"enter the value of %d item : \"%i))\r\n",
        "    x.append(a)\r\n",
        "for i  in x:\r\n",
        "  if (i%2 == 0):\r\n",
        "    x.remove(i)\r\n",
        "print(\"modified list after removing even numbers :\")\r\n",
        "print(x)"
      ],
      "execution_count": 12,
      "outputs": [
        {
          "output_type": "stream",
          "text": [
            "enter list items : 4\n",
            "enter the value of 1 item : 4\n",
            "enter the value of 2 item : 4\n",
            "enter the value of 3 item : 4\n",
            "enter the value of 4 item : 4\n",
            "modified list after removing even numbers :\n",
            "[4, 4]\n"
          ],
          "name": "stdout"
        }
      ]
    }
  ]
}