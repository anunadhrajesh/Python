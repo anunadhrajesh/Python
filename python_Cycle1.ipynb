{
  "nbformat": 4,
  "nbformat_minor": 0,
  "metadata": {
    "colab": {
      "name": "python Cycle1.ipynb",
      "provenance": [],
      "collapsed_sections": [],
      "authorship_tag": "ABX9TyMk2XTlSNBV/UFPNHxCpm2H",
      "include_colab_link": true
    },
    "kernelspec": {
      "name": "python3",
      "display_name": "Python 3"
    }
  },
  "cells": [
    {
      "cell_type": "markdown",
      "metadata": {
        "id": "view-in-github",
        "colab_type": "text"
      },
      "source": [
        "<a href=\"https://colab.research.google.com/github/anunadhrajesh/Python/blob/main/python_Cycle1.ipynb\" target=\"_parent\"><img src=\"https://colab.research.google.com/assets/colab-badge.svg\" alt=\"Open In Colab\"/></a>"
      ]
    },
    {
      "cell_type": "code",
      "metadata": {
        "colab": {
          "base_uri": "https://localhost:8080/"
        },
        "id": "oLCacWjP4kpx",
        "outputId": "5f90752f-310d-4140-8bda-acde31406bc1"
      },
      "source": [
        "print(\"hello world\")\r\n"
      ],
      "execution_count": 1,
      "outputs": [
        {
          "output_type": "stream",
          "text": [
            "hello world\n"
          ],
          "name": "stdout"
        }
      ]
    },
    {
      "cell_type": "code",
      "metadata": {
        "colab": {
          "base_uri": "https://localhost:8080/"
        },
        "id": "KEkmRgSi4wMK",
        "outputId": "21be284f-150b-4f76-81fb-7f61c5acc71b"
      },
      "source": [
        "a=int(input(\"enter the integer:\"))\r\n",
        "print(a)"
      ],
      "execution_count": 3,
      "outputs": [
        {
          "output_type": "stream",
          "text": [
            "enter the integer:2\n",
            "2\n"
          ],
          "name": "stdout"
        }
      ]
    },
    {
      "cell_type": "code",
      "metadata": {
        "colab": {
          "base_uri": "https://localhost:8080/"
        },
        "id": "PV4BmLHB6Zrj",
        "outputId": "d3194710-ed67-4e24-81e3-6c146a0cb436"
      },
      "source": [
        "a=int(input(\"Enter first number:\"))\r\n",
        "b=int(input(\"Enter second number:\"))\r\n",
        "sum = a+b\r\n",
        "print(\"sum :\",sum)\r\n"
      ],
      "execution_count": 4,
      "outputs": [
        {
          "output_type": "stream",
          "text": [
            "Enter first number:2\n",
            "Enter second number:2\n",
            "sum : 4\n"
          ],
          "name": "stdout"
        }
      ]
    },
    {
      "cell_type": "code",
      "metadata": {
        "colab": {
          "base_uri": "https://localhost:8080/"
        },
        "id": "2XZqhvaY6Yn8",
        "outputId": "e3d03eea-ef1f-429b-cade-ad6da6add188"
      },
      "source": [
        "num1=float(input(\"Enter first number: \"))\r\n",
        "num2=float(input(\"Enter second number: \"))\r\n",
        "mul=num1*num2\r\n",
        "print(\"the product of given numbers is:\",mul)\r\n"
      ],
      "execution_count": 5,
      "outputs": [
        {
          "output_type": "stream",
          "text": [
            "Enter first number: 2\n",
            "Enter second number: 2\n",
            "the product of given numbers is: 4.0\n"
          ],
          "name": "stdout"
        }
      ]
    },
    {
      "cell_type": "code",
      "metadata": {
        "colab": {
          "base_uri": "https://localhost:8080/"
        },
        "id": "40e6V2eb6Y6U",
        "outputId": "91cfdf90-1f2d-497e-c5af-e1e42a63c668"
      },
      "source": [
        "a = int(input(\"Enter the first number: \"))\r\n",
        "b = int(input(\"Enter the second number: \"))\r\n",
        "quotient = a//b\r\n",
        "remainder = a%b\r\n",
        "print(\"Quotient is:\", quotient)\r\n",
        "print(\"Remainder is:\", remainder)\r\n"
      ],
      "execution_count": 6,
      "outputs": [
        {
          "output_type": "stream",
          "text": [
            "Enter the first number: 2\n",
            "Enter the second number: 2\n",
            "Quotient is: 1\n",
            "Remainder is: 0\n"
          ],
          "name": "stdout"
        }
      ]
    },
    {
      "cell_type": "code",
      "metadata": {
        "colab": {
          "base_uri": "https://localhost:8080/"
        },
        "id": "FZn5gYzN7cz7",
        "outputId": "68ff76dc-d8f3-48b6-b60c-6a3031a8509d"
      },
      "source": [
        "num1 = (input(\"Enter First Number: \"))\r\n",
        "num2 = (input(\"Enter Second Number: \"))\r\n",
        "print(\"Value of num1 before swapping: \", num1)\r\n",
        "print(\"Value of num2 before swapping: \", num2)\r\n",
        "temp = num1\r\n",
        "num1 = num2\r\n",
        "num2 = temp\r\n",
        "print(\"Value of num1 after swapping: \", num1)\r\n",
        "print(\"Value of num2 after swapping: \", num2)\r\n"
      ],
      "execution_count": 7,
      "outputs": [
        {
          "output_type": "stream",
          "text": [
            "Enter First Number: 2\n",
            "Enter Second Number: 4\n",
            "Value of num1 before swapping:  2\n",
            "Value of num2 before swapping:  4\n",
            "Value of num1 after swapping:  4\n",
            "Value of num2 after swapping:  2\n"
          ],
          "name": "stdout"
        }
      ]
    },
    {
      "cell_type": "code",
      "metadata": {
        "colab": {
          "base_uri": "https://localhost:8080/"
        },
        "id": "BHbvW-q47fBF",
        "outputId": "0320ef87-0286-4556-c821-bdeb0f9cdbd5"
      },
      "source": [
        "num = int(input(\"Enter a number: \"))\r\n",
        "mod = num % 2\r\n",
        "if mod > 0:\r\n",
        "    print(\"This is an odd number.\")\r\n",
        "else:\r\n",
        "    print(\"This is an even number.\")"
      ],
      "execution_count": 18,
      "outputs": [
        {
          "output_type": "stream",
          "text": [
            "Enter a number: 2\n",
            "This is an even number.\n"
          ],
          "name": "stdout"
        }
      ]
    },
    {
      "cell_type": "code",
      "metadata": {
        "colab": {
          "base_uri": "https://localhost:8080/"
        },
        "id": "yd76_CcL7fJy",
        "outputId": "5c5b638e-ffd8-4f25-edb9-4efe292c44a0"
      },
      "source": [
        "ch = (input(\"Enter a character: \"))\r\n",
        "if(ch=='A' or ch=='a' or ch=='E' or ch =='e' or ch=='I'\r\n",
        " or ch=='i' or ch=='O' or ch=='o' or ch=='U' or ch=='u'):\r\n",
        "     print(ch, \"is a Vowel.\")\r\n",
        "else:\r\n",
        "     print(ch, \"is a Consonant\")\r\n"
      ],
      "execution_count": 22,
      "outputs": [
        {
          "output_type": "stream",
          "text": [
            "Enter a character: a\n",
            "a is a Vowel.\n"
          ],
          "name": "stdout"
        }
      ]
    }
  ]
}