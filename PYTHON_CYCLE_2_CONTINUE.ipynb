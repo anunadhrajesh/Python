{
  "nbformat": 4,
  "nbformat_minor": 0,
  "metadata": {
    "colab": {
      "name": "PYTHON CYCLE 2 CONTINUE.ipynb",
      "provenance": [],
      "collapsed_sections": []
    },
    "kernelspec": {
      "name": "python3",
      "display_name": "Python 3"
    }
  },
  "cells": [
    {
      "cell_type": "markdown",
      "metadata": {
        "id": "R_2UmrBc1CbZ"
      },
      "source": [
        "1.)"
      ]
    },
    {
      "cell_type": "code",
      "metadata": {
        "colab": {
          "base_uri": "https://localhost:8080/"
        },
        "id": "uQORLHoW1Gc5",
        "outputId": "354b6636-93e9-423f-ae57-d7469af93bd6"
      },
      "source": [
        "n=input(\"enter your house number : \")\r\n",
        "hname=input(\"enter your house name : \")\r\n",
        "s=input(\"enter your street name : \")\r\n",
        "t=input(\"enter your town/city : \")\r\n",
        "d=input(\"enter your district : \")\r\n",
        "state=input(\"enter your state : \")\r\n",
        "county=input(\"enter your county : \")\r\n",
        "pin=int(input(\"enter your postcode: \"))\r\n",
        "print(\"\\nAddress Details :\\n\" + \"\\nHousenumber :\",n,\"\\nHouse :\",hname,\"\\nStreet : \",s,\"\\nTown/City : \",t,\"District : \",d,\"\\nState : \",state,\"\\nCounty : \",county,\"\\nPostcode : \",pin)"
      ],
      "execution_count": 11,
      "outputs": [
        {
          "output_type": "stream",
          "text": [
            "enter your house number : Anunadh Rajesh\n",
            "enter your house name : 75\n",
            "enter your street name : Kadaplamttom\n",
            "enter your town/city : Palai\n",
            "enter your district : Kottayam\n",
            "enter your state : Kerala\n",
            "enter your county : India\n",
            "enter your postcode: 686571\n",
            "\n",
            "Address Details :\n",
            "\n",
            "Housenumber : Anunadh Rajesh \n",
            "House : 75 \n",
            "Street :  Kadaplamttom \n",
            "Town/City :  Palai District :  Kottayam \n",
            "State :  Kerala \n",
            "County :  India \n",
            "Postcode :  686571\n"
          ],
          "name": "stdout"
        }
      ]
    },
    {
      "cell_type": "markdown",
      "metadata": {
        "id": "zve1-AVjwRi9"
      },
      "source": [
        "7.)"
      ]
    },
    {
      "cell_type": "code",
      "metadata": {
        "colab": {
          "base_uri": "https://localhost:8080/"
        },
        "id": "aCb03Harg0uC",
        "outputId": "e35cba0f-3714-4c85-aa9f-a766a465d0bb"
      },
      "source": [
        "78\r\n",
        "x=[]\r\n",
        "a=int(input(\"enter limit for list1 : \"))\r\n",
        "for i in range(1,a+1):\r\n",
        "  a=int(input())\r\n",
        "  x.append(a)\r\n",
        "print(x)\r\n",
        "y=[]\r\n",
        "b=int(input(\"enter limit for list2 : \"))\r\n",
        "for i in range(1,b+1):\r\n",
        "  b=int(input())\r\n",
        "  y.append(b)\r\n",
        "print(y)\r\n",
        "if (len(x)==len(y)):\r\n",
        "  print(\"list1 and list2 are of same length i.e.\",len(x))\r\n",
        "else:\r\n",
        "  print(\"list1 and list2 are of different length.\")\r\n",
        "if (sum(x)==sum(y)):\r\n",
        "  print(\"list1 and list2 sums to the same value i.e.\",sum(x))\r\n",
        "else:\r\n",
        "  print(\"list1 and list2 sums up to different values.\")\r\n",
        "def common(x, y): \r\n",
        "    p=set(x) \r\n",
        "    q=set(y) \r\n",
        "    if len(p.intersection(q)) > 0: \r\n",
        "        return(p.intersection(q))   \r\n",
        "    else: \r\n",
        "        return(\"no common elements\")  \r\n",
        "print(\"value that occur in both lists is/are :\",common(x,y)) "
      ],
      "execution_count": 15,
      "outputs": [
        {
          "output_type": "stream",
          "text": [
            "enter limit for list1 : 3\n",
            "9\n",
            "8\n",
            "7\n",
            "[9, 8, 7]\n",
            "enter limit for list2 : 3\n",
            "8\n",
            "7\n",
            "6\n",
            "[8, 7, 6]\n",
            "list1 and list2 are of same length i.e. 3\n",
            "list1 and list2 sums up to different values.\n",
            "value that occur in both lists is/are : {8, 7}\n"
          ],
          "name": "stdout"
        }
      ]
    },
    {
      "cell_type": "markdown",
      "metadata": {
        "id": "n5d971DA2pu0"
      },
      "source": [
        "8.)"
      ]
    },
    {
      "cell_type": "code",
      "metadata": {
        "colab": {
          "base_uri": "https://localhost:8080/"
        },
        "id": "3cN3PXeo2rjM",
        "outputId": "f47844a0-a27f-40eb-8b88-f5e1bc487681"
      },
      "source": [
        "str=input(\"enter any string : \")\r\n",
        "def rep_ch(str1):\r\n",
        "  char=str1[0]\r\n",
        "  str1=str1.replace(char, '$')\r\n",
        "  str1=char+str1[1:]\r\n",
        "  return str1\r\n",
        "print(rep_ch(str))"
      ],
      "execution_count": 13,
      "outputs": [
        {
          "output_type": "stream",
          "text": [
            "enter any string : aeroplane\n",
            "aeropl$ne\n"
          ],
          "name": "stdout"
        }
      ]
    },
    {
      "cell_type": "code",
      "metadata": {
        "colab": {
          "base_uri": "https://localhost:8080/"
        },
        "id": "o25hoa5ks8qZ",
        "outputId": "a0f6d09b-3a79-497d-e490-5a1158caa9a2"
      },
      "source": [
        "color_list = [\"Red\",\"Green\",\"White\" ,\"Black\"]\r\n",
        "print( \"%s %s\"%(color_list[0],color_list[-1]))"
      ],
      "execution_count": 8,
      "outputs": [
        {
          "output_type": "stream",
          "text": [
            "Red Black\n"
          ],
          "name": "stdout"
        }
      ]
    },
    {
      "cell_type": "code",
      "metadata": {
        "colab": {
          "base_uri": "https://localhost:8080/"
        },
        "id": "ZJnarM5XiDfR",
        "outputId": "62af8f3d-7f78-42c4-b6cd-fb4d93d2eaf5"
      },
      "source": [
        "a = int(input(\"Input an integer : \"))\r\n",
        "n1 = int( \"%s\" % a )\r\n",
        "n2 = int( \"%s%s\" % (a,a) )\r\n",
        "n3 = int( \"%s%s%s\" % (a,a,a) )\r\n",
        "print (n1+n2+n3)"
      ],
      "execution_count": 1,
      "outputs": [
        {
          "output_type": "stream",
          "text": [
            "Input an integer : 3\n",
            "369\n"
          ],
          "name": "stdout"
        }
      ]
    },
    {
      "cell_type": "code",
      "metadata": {
        "colab": {
          "base_uri": "https://localhost:8080/"
        },
        "id": "XReKj10LiL04",
        "outputId": "f9e3ccc5-e0df-47b0-88e4-9890bb0f0c8c"
      },
      "source": [
        "color_list_1 = set([\"White\", \"Black\", \"Red\"])\r\n",
        "color_list_2 = set([\"Red\", \"Green\"])\r\n",
        "\r\n",
        "print(color_list_1.difference(color_list_2))"
      ],
      "execution_count": 2,
      "outputs": [
        {
          "output_type": "stream",
          "text": [
            "{'White', 'Black'}\n"
          ],
          "name": "stdout"
        }
      ]
    },
    {
      "cell_type": "code",
      "metadata": {
        "colab": {
          "base_uri": "https://localhost:8080/"
        },
        "id": "6frS7lTki7GU",
        "outputId": "73a9c273-67b3-41f4-fd0c-fa13afa2329b"
      },
      "source": [
        "def chars_mix_up(a, b):\r\n",
        "  new_a = b[:2] + a[2:]\r\n",
        "  new_b = a[:2] + b[2:]\r\n",
        "\r\n",
        "  return new_a + ' ' + new_b\r\n",
        "print(chars_mix_up('abc', 'xyz'))"
      ],
      "execution_count": 3,
      "outputs": [
        {
          "output_type": "stream",
          "text": [
            "xyc abz\n"
          ],
          "name": "stdout"
        }
      ]
    },
    {
      "cell_type": "code",
      "metadata": {
        "colab": {
          "base_uri": "https://localhost:8080/"
        },
        "id": "KTZcgN7ej2RX",
        "outputId": "50224e2e-f8de-4acd-8af0-fd644dd815ec"
      },
      "source": [
        "import operator\r\n",
        "d = {1: 2, 3: 4, 4: 3, 2: 1, 0: 0}\r\n",
        "print('Original dictionary : ',d)\r\n",
        "sorted_d = sorted(d.items(), key=operator.itemgetter(1))\r\n",
        "print('Dictionary in ascending order by value : ',sorted_d)\r\n",
        "sorted_d = dict( sorted(d.items(), key=operator.itemgetter(1),reverse=True))\r\n",
        "print('Dictionary in descending order by value : ',sorted_d)\r\n"
      ],
      "execution_count": 4,
      "outputs": [
        {
          "output_type": "stream",
          "text": [
            "Original dictionary :  {1: 2, 3: 4, 4: 3, 2: 1, 0: 0}\n",
            "Dictionary in ascending order by value :  [(0, 0), (2, 1), (1, 2), (4, 3), (3, 4)]\n",
            "Dictionary in descending order by value :  {3: 4, 4: 3, 1: 2, 2: 1, 0: 0}\n"
          ],
          "name": "stdout"
        }
      ]
    },
    {
      "cell_type": "code",
      "metadata": {
        "colab": {
          "base_uri": "https://localhost:8080/"
        },
        "id": "BfaRg5a_kKsu",
        "outputId": "dd9651b6-b64a-4a75-e754-3aab72d32067"
      },
      "source": [
        "def Merge(dict1, dict2):\r\n",
        "    return(dict2.update(dict1))\r\n",
        "dict1 = {'a': 10, 'b': 8}\r\n",
        "dict2 = {'d': 6, 'c': 4}\r\n",
        "print(Merge(dict1, dict2))\r\n",
        "print(dict2)"
      ],
      "execution_count": 5,
      "outputs": [
        {
          "output_type": "stream",
          "text": [
            "None\n",
            "{'d': 6, 'c': 4, 'a': 10, 'b': 8}\n"
          ],
          "name": "stdout"
        }
      ]
    },
    {
      "cell_type": "code",
      "metadata": {
        "colab": {
          "base_uri": "https://localhost:8080/"
        },
        "id": "3cUo-BFakdG8",
        "outputId": "eae0f3f8-c80a-4859-8f18-27a27f52a2f1"
      },
      "source": [
        "num1 = int(input(\"Enter 1st number: \"))\r\n",
        "num2 = int(input(\"Enter 2nd number: \"))\r\n",
        "i = 1\r\n",
        "while(i <= num1 and i <= num2):\r\n",
        "  if(num1 % i == 0 and num2 % i == 0):\r\n",
        "    gcd = i\r\n",
        "  i = i + 1\r\n",
        "print(\"GCD is\", gcd)"
      ],
      "execution_count": 6,
      "outputs": [
        {
          "output_type": "stream",
          "text": [
            "Enter 1st number: 2\n",
            "Enter 2nd number: 4\n",
            "GCD is 2\n"
          ],
          "name": "stdout"
        }
      ]
    },
    {
      "cell_type": "code",
      "metadata": {
        "colab": {
          "base_uri": "https://localhost:8080/"
        },
        "id": "Sw2ZIilgkrVJ",
        "outputId": "62aedbe6-f8ef-41d0-fa0e-97faea9b9ca8"
      },
      "source": [
        "num = [7,8, 120, 25, 44, 20, 27]\r\n",
        "num = [x for x in num if x%2!=0]\r\n",
        "print(num)"
      ],
      "execution_count": 7,
      "outputs": [
        {
          "output_type": "stream",
          "text": [
            "[7, 25, 27]\n"
          ],
          "name": "stdout"
        }
      ]
    }
  ]
}