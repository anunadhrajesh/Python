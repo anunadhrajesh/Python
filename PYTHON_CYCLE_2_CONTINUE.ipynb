{
  "nbformat": 4,
  "nbformat_minor": 0,
  "metadata": {
    "colab": {
      "name": "PYTHON CYCLE 2 CONTINUE.ipynb",
      "provenance": [],
      "collapsed_sections": []
    },
    "kernelspec": {
      "name": "python3",
      "display_name": "Python 3"
    }
  },
  "cells": [
    {
      "cell_type": "code",
      "metadata": {
        "colab": {
          "base_uri": "https://localhost:8080/"
        },
        "id": "ZJnarM5XiDfR",
        "outputId": "62af8f3d-7f78-42c4-b6cd-fb4d93d2eaf5"
      },
      "source": [
        "a = int(input(\"Input an integer : \"))\r\n",
        "n1 = int( \"%s\" % a )\r\n",
        "n2 = int( \"%s%s\" % (a,a) )\r\n",
        "n3 = int( \"%s%s%s\" % (a,a,a) )\r\n",
        "print (n1+n2+n3)"
      ],
      "execution_count": 1,
      "outputs": [
        {
          "output_type": "stream",
          "text": [
            "Input an integer : 3\n",
            "369\n"
          ],
          "name": "stdout"
        }
      ]
    },
    {
      "cell_type": "code",
      "metadata": {
        "colab": {
          "base_uri": "https://localhost:8080/"
        },
        "id": "XReKj10LiL04",
        "outputId": "f9e3ccc5-e0df-47b0-88e4-9890bb0f0c8c"
      },
      "source": [
        "color_list_1 = set([\"White\", \"Black\", \"Red\"])\r\n",
        "color_list_2 = set([\"Red\", \"Green\"])\r\n",
        "\r\n",
        "print(color_list_1.difference(color_list_2))"
      ],
      "execution_count": 2,
      "outputs": [
        {
          "output_type": "stream",
          "text": [
            "{'White', 'Black'}\n"
          ],
          "name": "stdout"
        }
      ]
    },
    {
      "cell_type": "code",
      "metadata": {
        "colab": {
          "base_uri": "https://localhost:8080/"
        },
        "id": "6frS7lTki7GU",
        "outputId": "73a9c273-67b3-41f4-fd0c-fa13afa2329b"
      },
      "source": [
        "def chars_mix_up(a, b):\r\n",
        "  new_a = b[:2] + a[2:]\r\n",
        "  new_b = a[:2] + b[2:]\r\n",
        "\r\n",
        "  return new_a + ' ' + new_b\r\n",
        "print(chars_mix_up('abc', 'xyz'))"
      ],
      "execution_count": 3,
      "outputs": [
        {
          "output_type": "stream",
          "text": [
            "xyc abz\n"
          ],
          "name": "stdout"
        }
      ]
    },
    {
      "cell_type": "code",
      "metadata": {
        "colab": {
          "base_uri": "https://localhost:8080/"
        },
        "id": "KTZcgN7ej2RX",
        "outputId": "50224e2e-f8de-4acd-8af0-fd644dd815ec"
      },
      "source": [
        "import operator\r\n",
        "d = {1: 2, 3: 4, 4: 3, 2: 1, 0: 0}\r\n",
        "print('Original dictionary : ',d)\r\n",
        "sorted_d = sorted(d.items(), key=operator.itemgetter(1))\r\n",
        "print('Dictionary in ascending order by value : ',sorted_d)\r\n",
        "sorted_d = dict( sorted(d.items(), key=operator.itemgetter(1),reverse=True))\r\n",
        "print('Dictionary in descending order by value : ',sorted_d)\r\n"
      ],
      "execution_count": 4,
      "outputs": [
        {
          "output_type": "stream",
          "text": [
            "Original dictionary :  {1: 2, 3: 4, 4: 3, 2: 1, 0: 0}\n",
            "Dictionary in ascending order by value :  [(0, 0), (2, 1), (1, 2), (4, 3), (3, 4)]\n",
            "Dictionary in descending order by value :  {3: 4, 4: 3, 1: 2, 2: 1, 0: 0}\n"
          ],
          "name": "stdout"
        }
      ]
    },
    {
      "cell_type": "code",
      "metadata": {
        "colab": {
          "base_uri": "https://localhost:8080/"
        },
        "id": "BfaRg5a_kKsu",
        "outputId": "dd9651b6-b64a-4a75-e754-3aab72d32067"
      },
      "source": [
        "def Merge(dict1, dict2):\r\n",
        "    return(dict2.update(dict1))\r\n",
        "dict1 = {'a': 10, 'b': 8}\r\n",
        "dict2 = {'d': 6, 'c': 4}\r\n",
        "print(Merge(dict1, dict2))\r\n",
        "print(dict2)"
      ],
      "execution_count": 5,
      "outputs": [
        {
          "output_type": "stream",
          "text": [
            "None\n",
            "{'d': 6, 'c': 4, 'a': 10, 'b': 8}\n"
          ],
          "name": "stdout"
        }
      ]
    },
    {
      "cell_type": "code",
      "metadata": {
        "colab": {
          "base_uri": "https://localhost:8080/"
        },
        "id": "3cUo-BFakdG8",
        "outputId": "eae0f3f8-c80a-4859-8f18-27a27f52a2f1"
      },
      "source": [
        "num1 = int(input(\"Enter 1st number: \"))\r\n",
        "num2 = int(input(\"Enter 2nd number: \"))\r\n",
        "i = 1\r\n",
        "while(i <= num1 and i <= num2):\r\n",
        "  if(num1 % i == 0 and num2 % i == 0):\r\n",
        "    gcd = i\r\n",
        "  i = i + 1\r\n",
        "print(\"GCD is\", gcd)"
      ],
      "execution_count": 6,
      "outputs": [
        {
          "output_type": "stream",
          "text": [
            "Enter 1st number: 2\n",
            "Enter 2nd number: 4\n",
            "GCD is 2\n"
          ],
          "name": "stdout"
        }
      ]
    },
    {
      "cell_type": "code",
      "metadata": {
        "colab": {
          "base_uri": "https://localhost:8080/"
        },
        "id": "Sw2ZIilgkrVJ",
        "outputId": "62aedbe6-f8ef-41d0-fa0e-97faea9b9ca8"
      },
      "source": [
        "num = [7,8, 120, 25, 44, 20, 27]\r\n",
        "num = [x for x in num if x%2!=0]\r\n",
        "print(num)"
      ],
      "execution_count": 7,
      "outputs": [
        {
          "output_type": "stream",
          "text": [
            "[7, 25, 27]\n"
          ],
          "name": "stdout"
        }
      ]
    }
  ]
}