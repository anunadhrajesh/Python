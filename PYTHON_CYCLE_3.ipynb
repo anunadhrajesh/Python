{
  "nbformat": 4,
  "nbformat_minor": 0,
  "metadata": {
    "colab": {
      "name": "PYTHON CYCLE 3.ipynb",
      "provenance": [],
      "collapsed_sections": []
    },
    "kernelspec": {
      "name": "python3",
      "display_name": "Python 3"
    }
  },
  "cells": [
    {
      "cell_type": "markdown",
      "metadata": {
        "id": "H7QyBir_2iVo"
      },
      "source": [
        "1.)"
      ]
    },
    {
      "cell_type": "code",
      "metadata": {
        "colab": {
          "base_uri": "https://localhost:8080/"
        },
        "id": "DCFFxst5Kg8N",
        "outputId": "350cf996-4886-45cd-9400-3a65381ca676"
      },
      "source": [
        "num = int(input(\"Enter a number: \"))  \r\n",
        "factorial = 1  \r\n",
        "if num < 0:  \r\n",
        "   print(\"Sorry, factorial does not exist for negative numbers\")  \r\n",
        "elif num == 0:  \r\n",
        "   print(\"The factorial of 0 is 1\")  \r\n",
        "else:  \r\n",
        "   for i in range(1,num + 1):  \r\n",
        "       factorial = factorial*i  \r\n",
        "   print(\"The factorial of\",num,\"is\",factorial)  "
      ],
      "execution_count": null,
      "outputs": [
        {
          "output_type": "stream",
          "text": [
            "Enter a number: 7\n",
            "The factorial of 7 is 5040\n"
          ],
          "name": "stdout"
        }
      ]
    },
    {
      "cell_type": "markdown",
      "metadata": {
        "id": "58DWRBoF2oM6"
      },
      "source": [
        "2.)"
      ]
    },
    {
      "cell_type": "code",
      "metadata": {
        "colab": {
          "base_uri": "https://localhost:8080/"
        },
        "id": "SXQJAuDgLOOv",
        "outputId": "b3eb4493-bd7d-4593-adf4-e947c67d9468"
      },
      "source": [
        "nterms = int(input(\"How many terms? \"))\r\n",
        "n1, n2 = 0, 1\r\n",
        "count = 0\r\n",
        "if nterms <= 0:\r\n",
        "   print(\"Please enter a positive integer\")\r\n",
        "elif nterms == 1:\r\n",
        "   print(\"Fibonacci sequence upto\",nterms,\":\")\r\n",
        "   print(n1)\r\n",
        "else:\r\n",
        "   print(\"Fibonacci sequence:\")\r\n",
        "   while count < nterms:\r\n",
        "       print(n1)\r\n",
        "       nth = n1 + n2\r\n",
        "       # update values\r\n",
        "       n1 = n2\r\n",
        "       n2 = nth\r\n",
        "       count += 1"
      ],
      "execution_count": null,
      "outputs": [
        {
          "output_type": "stream",
          "text": [
            "How many terms? 8\n",
            "Fibonacci sequence:\n",
            "0\n",
            "1\n",
            "1\n",
            "2\n",
            "3\n",
            "5\n",
            "8\n",
            "13\n"
          ],
          "name": "stdout"
        }
      ]
    },
    {
      "cell_type": "markdown",
      "metadata": {
        "id": "ws5em_ja2tfc"
      },
      "source": [
        "3.)"
      ]
    },
    {
      "cell_type": "code",
      "metadata": {
        "colab": {
          "base_uri": "https://localhost:8080/"
        },
        "id": "R-FCxXopNnP4",
        "outputId": "f2bd0b80-7406-4464-e39c-29f339d82269"
      },
      "source": [
        "total = 0\r\n",
        "list1 = [11, 5, 17, 18, 23] \r\n",
        "for ele in range(0, len(list1)):\r\n",
        "    total = total + list1[ele]\r\n",
        "print(\"Sum of all elements in given list: \", total)"
      ],
      "execution_count": null,
      "outputs": [
        {
          "output_type": "stream",
          "text": [
            "Sum of all elements in given list:  74\n"
          ],
          "name": "stdout"
        }
      ]
    },
    {
      "cell_type": "markdown",
      "metadata": {
        "id": "FrsBhCOx3JIy"
      },
      "source": [
        "4.)"
      ]
    },
    {
      "cell_type": "code",
      "metadata": {
        "colab": {
          "base_uri": "https://localhost:8080/"
        },
        "id": "-eMzRCmG3STL",
        "outputId": "c09c0b2a-f9b4-4f67-ff26-fc5078092cdc"
      },
      "source": [
        "items=[]\r\n",
        "for i in range(1000,10000,1):\r\n",
        "  for j in  range(32,100,1):\r\n",
        "    if i == j*j:\r\n",
        "      p=str(i)\r\n",
        "      if int(p[0])%2 == 0 and int(p[1])%2 == 0 and int(p[2])%2 == 0 and int(p[3])%2 == 0:\r\n",
        "        items.append(p)\r\n",
        "print(\"list of perfect squares from the range 1000 to 10,000 is:\",items)"
      ],
      "execution_count": null,
      "outputs": [
        {
          "output_type": "stream",
          "text": [
            "list of perfect squares from the range 1000 to 10,000 is: ['4624', '6084', '6400', '8464']\n"
          ],
          "name": "stdout"
        }
      ]
    },
    {
      "cell_type": "markdown",
      "metadata": {
        "id": "uN1aSKj55ZBR"
      },
      "source": [
        "5.)"
      ]
    },
    {
      "cell_type": "code",
      "metadata": {
        "id": "_1hj118L5Zql",
        "colab": {
          "base_uri": "https://localhost:8080/"
        },
        "outputId": "185340ef-d2f0-4d07-cd2f-c544ce44a44c"
      },
      "source": [
        "row = int(input('Enter how many lines do you want:'))\r\n",
        "for i in range(1,row+1):\r\n",
        "  for j in range(1, i+1):\r\n",
        "    print(i*j, end='')\r\n",
        "  print()\r\n"
      ],
      "execution_count": 18,
      "outputs": [
        {
          "output_type": "stream",
          "text": [
            "Enter how many lines do you want:5\n",
            "1\n",
            "24\n",
            "369\n",
            "481216\n",
            "510152025\n"
          ],
          "name": "stdout"
        }
      ]
    },
    {
      "cell_type": "markdown",
      "metadata": {
        "id": "q0dVDmyN3HJ8"
      },
      "source": [
        "6.)"
      ]
    },
    {
      "cell_type": "code",
      "metadata": {
        "colab": {
          "base_uri": "https://localhost:8080/"
        },
        "id": "E54AdQvhNu2z",
        "outputId": "cdca85e9-8db0-4a85-972b-8c7611b68ba1"
      },
      "source": [
        "def char_frequency(str1):\r\n",
        "    dict = {}\r\n",
        "    for n in str1:\r\n",
        "        keys = dict.keys()\r\n",
        "        if n in keys:\r\n",
        "            dict[n] += 1\r\n",
        "        else:\r\n",
        "            dict[n] = 1\r\n",
        "    return dict\r\n",
        "print(char_frequency('ANUNADH RAJESH'))"
      ],
      "execution_count": null,
      "outputs": [
        {
          "output_type": "stream",
          "text": [
            "{'A': 3, 'N': 2, 'U': 1, 'D': 1, 'H': 2, ' ': 1, 'R': 1, 'J': 1, 'E': 1, 'S': 1}\n"
          ],
          "name": "stdout"
        }
      ]
    },
    {
      "cell_type": "markdown",
      "metadata": {
        "id": "7EpznU-79MOd"
      },
      "source": [
        "7.)"
      ]
    },
    {
      "cell_type": "code",
      "metadata": {
        "colab": {
          "base_uri": "https://localhost:8080/"
        },
        "id": "L-sOJUWzQLA_",
        "outputId": "92214878-dd68-467d-fbef-0f67d62f1171"
      },
      "source": [
        "string = input()\r\n",
        "if len(string) < 3:\r\n",
        "  print(string)\r\n",
        "elif string[-3:] == 'ing':\r\n",
        "  print(string + 'ly')\r\n",
        "else:\r\n",
        "  print(string + 'ing')"
      ],
      "execution_count": null,
      "outputs": [
        {
          "output_type": "stream",
          "text": [
            "running\n",
            "runningly\n"
          ],
          "name": "stdout"
        }
      ]
    },
    {
      "cell_type": "markdown",
      "metadata": {
        "id": "Mj6JKU8R9RtT"
      },
      "source": [
        "8.)"
      ]
    },
    {
      "cell_type": "code",
      "metadata": {
        "colab": {
          "base_uri": "https://localhost:8080/"
        },
        "id": "IwWHZkviRBuM",
        "outputId": "c59ec667-0fca-43e6-c0ce-b7c7addc9dc4"
      },
      "source": [
        "a=[]\r\n",
        "n= int(input(\"Enter the number of elements in list:\"))\r\n",
        "for x in range(0,n):\r\n",
        "    element=input(\"Enter element\" + str(x+1) + \":\")\r\n",
        "    a.append(element)\r\n",
        "max1=len(a[0])\r\n",
        "temp=a[0]\r\n",
        "for i in a:\r\n",
        "    if(len(i)>max1):\r\n",
        "       max1=len(i)\r\n",
        "       temp=i\r\n",
        "print(\"The word with the longest length is:\")\r\n",
        "print(temp)"
      ],
      "execution_count": null,
      "outputs": [
        {
          "output_type": "stream",
          "text": [
            "Enter the number of elements in list:3\n",
            "Enter element1:run\n",
            "Enter element2:jump\n",
            "Enter element3:sleep\n",
            "The word with the longest length is:\n",
            "sleep\n"
          ],
          "name": "stdout"
        }
      ]
    },
    {
      "cell_type": "markdown",
      "metadata": {
        "id": "-SGjgXrD9Zhg"
      },
      "source": [
        "9.)"
      ]
    },
    {
      "cell_type": "code",
      "metadata": {
        "colab": {
          "base_uri": "https://localhost:8080/"
        },
        "id": "rMC_XLqH9ghT",
        "outputId": "64eef8d8-5ed0-4bb1-a49c-8114ced9fcee"
      },
      "source": [
        "n=int(input(\"Enter the number:\"))\r\n",
        "for i in range(n):\r\n",
        "  for j in range(i):\r\n",
        "    print('*', end=\"\")\r\n",
        "  print('')\r\n",
        "for i in range(n,0,-1):\r\n",
        "  for j in range(i):\r\n",
        "    print('*', end=\"\")\r\n",
        "  print('')"
      ],
      "execution_count": 16,
      "outputs": [
        {
          "output_type": "stream",
          "text": [
            "Enter the number:5\n",
            "\n",
            "*\n",
            "**\n",
            "***\n",
            "****\n",
            "*****\n",
            "****\n",
            "***\n",
            "**\n",
            "*\n"
          ],
          "name": "stdout"
        }
      ]
    },
    {
      "cell_type": "markdown",
      "metadata": {
        "id": "Nu0paHwm9VpI"
      },
      "source": [
        "10.)"
      ]
    },
    {
      "cell_type": "code",
      "metadata": {
        "colab": {
          "base_uri": "https://localhost:8080/"
        },
        "id": "SiIwbnQnSVQK",
        "outputId": "d062d18b-eca1-4a7d-ffc8-5edea5517072"
      },
      "source": [
        "number = int(input(\"Please Enter any Number: \"))\r\n",
        "\r\n",
        "value = 1\r\n",
        "print(\"Factors of a Given Number {0} are:\".format(number))\r\n",
        "\r\n",
        "while (value <= number):\r\n",
        "    if(number % value == 0):\r\n",
        "        print(\"{0}\".format(value))\r\n",
        "    value = value + 1"
      ],
      "execution_count": null,
      "outputs": [
        {
          "output_type": "stream",
          "text": [
            "Please Enter any Number: 34\n",
            "Factors of a Given Number 34 are:\n",
            "1\n",
            "2\n",
            "17\n",
            "34\n"
          ],
          "name": "stdout"
        }
      ]
    },
    {
      "cell_type": "markdown",
      "metadata": {
        "id": "cMOV-kZTEI6i"
      },
      "source": [
        "11)"
      ]
    },
    {
      "cell_type": "code",
      "metadata": {
        "colab": {
          "base_uri": "https://localhost:8080/"
        },
        "id": "0KSz4RxbER8u",
        "outputId": "c9a95598-ee8e-47e6-86a0-43d4e7935101"
      },
      "source": [
        "x=lambda a:a*a\r\n",
        "y=lambda b,l:b*1\r\n",
        "z=lambda b,h:1/2*b*h\r\n",
        "print(\"Area of Square(5,5):\",x(5))\r\n",
        "print(\"Area of Rectangle(20,9):\",y(20,9))\r\n",
        "print(\"Area of Triangle(3,4):\",z(3,4))\r\n"
      ],
      "execution_count": 19,
      "outputs": [
        {
          "output_type": "stream",
          "text": [
            "Area of Square(5,5): 25\n",
            "Area of Rectangle(20,9): 20\n",
            "Area of Triangle(3,4): 6.0\n"
          ],
          "name": "stdout"
        }
      ]
    },
    {
      "cell_type": "code",
      "metadata": {
        "id": "ECyYXf5fEJKW"
      },
      "source": [
        ""
      ],
      "execution_count": null,
      "outputs": []
    }
  ]
}